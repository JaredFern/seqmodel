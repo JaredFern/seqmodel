{
 "cells": [
  {
   "cell_type": "code",
   "execution_count": 1,
   "metadata": {
    "collapsed": false
   },
   "outputs": [],
   "source": [
    "import sys\n",
    "import time\n",
    "import tensorflow as tf\n",
    "import numpy as np\n",
    "sys.path.insert(0, '../')\n",
    "%load_ext autoreload\n",
    "%autoreload 2"
   ]
  },
  {
   "cell_type": "code",
   "execution_count": 2,
   "metadata": {
    "collapsed": false
   },
   "outputs": [],
   "source": [
    "from seqmodel.bunch import Bunch\n",
    "from seqmodel.experiment.policy_agent import ActorCriticAgent\n",
    "from seqmodel import model\n",
    "from seqmodel import data"
   ]
  },
  {
   "cell_type": "code",
   "execution_count": 3,
   "metadata": {
    "collapsed": true
   },
   "outputs": [],
   "source": [
    "vocab = data.Vocabulary.from_vocab_file('../data/tiny_copy/vocab.txt')\n",
    "valid_iter = data.Seq2SeqIterator(vocab, vocab)\n",
    "valid_iter.initialize('../data/tiny_copy/valid.txt')\n",
    "train_iter = data.Seq2SeqIterator(vocab, vocab)\n",
    "train_iter.initialize('../data/tiny_copy/train.txt')"
   ]
  },
  {
   "cell_type": "code",
   "execution_count": 4,
   "metadata": {
    "collapsed": false
   },
   "outputs": [
    {
     "name": "stderr",
     "output_type": "stream",
     "text": [
      "\u001b[36m[INFO ]\u001b[0mep: 0, lr: 0.300000\n"
     ]
    },
    {
     "name": "stdout",
     "output_type": "stream",
     "text": [
      "policy_agent/policy/model/encoder_embedding:0, (15, 32)\n",
      "policy_agent/policy/model/decoder_embedding:0, (15, 32)\n",
      "policy_agent/policy/model/encoder_rnn/rnn/basic_lstm_cell/weights:0, (64, 128)\n",
      "policy_agent/policy/model/encoder_rnn/rnn/basic_lstm_cell/biases:0, (128,)\n",
      "policy_agent/policy/model/decoder_rnn/rnn/basic_lstm_cell/weights:0, (64, 128)\n",
      "policy_agent/policy/model/decoder_rnn/rnn/basic_lstm_cell/biases:0, (128,)\n",
      "policy_agent/policy/model/decoder_rnn/logit_w:0, (15, 32)\n",
      "policy_agent/policy/model/decoder_rnn/logit_b:0, (15,)\n",
      "policy_agent/value/model/encoder_embedding:0, (15, 32)\n",
      "policy_agent/value/model/decoder_embedding:0, (15, 32)\n",
      "policy_agent/value/model/encoder_rnn/rnn/basic_lstm_cell/weights:0, (64, 128)\n",
      "policy_agent/value/model/encoder_rnn/rnn/basic_lstm_cell/biases:0, (128,)\n",
      "policy_agent/value/model/decoder_rnn/rnn/basic_lstm_cell/weights:0, (64, 128)\n",
      "policy_agent/value/model/decoder_rnn/rnn/basic_lstm_cell/biases:0, (128,)\n",
      "policy_agent/value/model/decoder_rnn/regression_w:0, (1, 32)\n",
      "policy_agent/value/model/decoder_rnn/regression_b:0, (1,)\n"
     ]
    },
    {
     "name": "stderr",
     "output_type": "stream",
     "text": [
      "\u001b[36m[INFO ]\u001b[0mtrain: @499 tr_loss: 8.74717, eval_loss: 1.32847, wps: 15394.8\n",
      "\u001b[36m[INFO ]\u001b[0mvalid: @49 eval_loss: 0.45677, wps: 32005.0\n",
      "\u001b[36m[INFO ]\u001b[0mep: 1, lr: 0.300000\n",
      "\u001b[36m[INFO ]\u001b[0mtrain: @499 tr_loss: 2.09442, eval_loss: 0.31601, wps: 15507.3\n",
      "\u001b[36m[INFO ]\u001b[0mvalid: @49 eval_loss: 0.24743, wps: 37340.9\n",
      "\u001b[36m[INFO ]\u001b[0mep: 2, lr: 0.300000\n",
      "\u001b[36m[INFO ]\u001b[0mtrain: @499 tr_loss: 1.12990, eval_loss: 0.17042, wps: 15633.9\n",
      "\u001b[36m[INFO ]\u001b[0mvalid: @49 eval_loss: 0.17978, wps: 37437.8\n",
      "\u001b[36m[INFO ]\u001b[0mep: 3, lr: 0.300000\n",
      "\u001b[36m[INFO ]\u001b[0mtrain: @499 tr_loss: 0.74202, eval_loss: 0.11155, wps: 15602.9\n",
      "\u001b[36m[INFO ]\u001b[0mvalid: @49 eval_loss: 0.09635, wps: 37646.7\n",
      "\u001b[36m[INFO ]\u001b[0mep: 4, lr: 0.300000\n",
      "\u001b[36m[INFO ]\u001b[0mtrain: @499 tr_loss: 0.55698, eval_loss: 0.08412, wps: 15507.8\n",
      "\u001b[36m[INFO ]\u001b[0mvalid: @49 eval_loss: 0.07772, wps: 37124.9\n"
     ]
    },
    {
     "data": {
      "text/plain": [
       "<seqmodel.experiment.run_info.TrainingState at 0x7fab1c53ed50>"
      ]
     },
     "execution_count": 4,
     "metadata": {},
     "output_type": "execute_result"
    }
   ],
   "source": [
    "tf.reset_default_graph()\n",
    "agent_opt = ActorCriticAgent.default_opt()\n",
    "emb_opt = agent_opt.policy_model.model_opt.embedding\n",
    "dec_opt = agent_opt.policy_model.model_opt.decoder\n",
    "enc_opt = agent_opt.policy_model.model_opt.encoder\n",
    "optim_opt = agent_opt.optim\n",
    "\n",
    "agent_opt.discount_factor = 0.5\n",
    "\n",
    "emb_opt.decoder_dim = 32\n",
    "emb_opt.encoder_dim = 32\n",
    "\n",
    "dec_opt.rnn_opt.rnn_cell.cell_opt.num_units = 32\n",
    "enc_opt.rnn_opt.rnn_cell.cell_opt.num_units = 32\n",
    "\n",
    "optim_opt.learning_rate = 0.3\n",
    "optim_opt.name = 'GradientDescentOptimizer'\n",
    "optim_opt.max_epochs = 5\n",
    "\n",
    "emb_opt = agent_opt.value_model.model_opt.embedding\n",
    "dec_opt = agent_opt.value_model.model_opt.decoder\n",
    "enc_opt = agent_opt.value_model.model_opt.encoder\n",
    "\n",
    "emb_opt.decoder_dim = 32\n",
    "emb_opt.encoder_dim = 32\n",
    "\n",
    "dec_opt.rnn_opt.rnn_cell.cell_opt.num_units = 32\n",
    "enc_opt.rnn_opt.rnn_cell.cell_opt.num_units = 32\n",
    "\n",
    "sess_config = tf.ConfigProto(device_count={'GPU': 0})\n",
    "sess = tf.Session(config = sess_config)\n",
    "\n",
    "agent = ActorCriticAgent(agent_opt, sess)\n",
    "agent.initialize_model(with_training=True)\n",
    "agent.initialize_optim()\n",
    "for v in tf.trainable_variables():\n",
    "    print('{}, {}'.format(v.name, v.get_shape()))\n",
    "sess.run(tf.global_variables_initializer())\n",
    "agent.train(train_iter, 20, valid_iter, 20, verbose=True)"
   ]
  },
  {
   "cell_type": "code",
   "execution_count": 5,
   "metadata": {
    "collapsed": false
   },
   "outputs": [
    {
     "name": "stdout",
     "output_type": "stream",
     "text": [
      "PPL: 0.0777161237701]\n",
      "Each match: 0.962945634921\n",
      "Exact match: 0.876\n",
      "BLEU: 0.94766835828\n"
     ]
    }
   ],
   "source": [
    "info = agent.evaluate(valid_iter, 20)\n",
    "print(\"PPL: {}]\".format(\n",
    "    info.eval_cost/info.num_tokens))\n",
    "\n",
    "valid_env = data.env.CopyEnv(valid_iter, re_init=False, reward_mode=data.env.ToyRewardMode.EACH_MATCH)\n",
    "valid_env.restart(batch_size=20)\n",
    "info = agent.evaluate_policy(valid_env)\n",
    "print('Each match: {}'.format(info.eval_loss))\n",
    "\n",
    "valid_hard_env = data.env.CopyEnv(valid_iter, re_init=False, reward_mode=data.env.ToyRewardMode.ALL_MATCH)\n",
    "valid_hard_env.restart(batch_size=20)\n",
    "info = agent.evaluate_policy(valid_hard_env)\n",
    "print('Exact match: {}'.format(info.eval_loss))\n",
    "\n",
    "valid_bleu_env = data.env.CopyEnv(valid_iter, re_init=False, reward_mode=data.env.ToyRewardMode.SEN_BLEU)\n",
    "valid_bleu_env.restart(batch_size=20)\n",
    "info = agent.evaluate_policy(valid_bleu_env)\n",
    "print('BLEU: {}'.format(info.eval_loss))"
   ]
  },
  {
   "cell_type": "code",
   "execution_count": 6,
   "metadata": {
    "collapsed": false
   },
   "outputs": [
    {
     "name": "stderr",
     "output_type": "stream",
     "text": [
      "\u001b[36m[INFO ]\u001b[0mep: 0, lr: 0.300000\n",
      "\u001b[36m[INFO ]\u001b[0mtrain: @500 tr_loss: -0.09527, base_loss: 0.00760, avg_return: 0.93500, wps: 597.9\n",
      "\u001b[36m[INFO ]\u001b[0mvalid: @50 avg_return: 0.90900, wps: 1377.0\n",
      "\u001b[36m[INFO ]\u001b[0mep: 1, lr: 0.300000\n",
      "\u001b[36m[INFO ]\u001b[0mtrain: @500 tr_loss: -0.07511, base_loss: 0.00246, avg_return: 0.94578, wps: 603.8\n",
      "\u001b[36m[INFO ]\u001b[0mvalid: @50 avg_return: 0.91400, wps: 1372.4\n",
      "\u001b[36m[INFO ]\u001b[0mep: 2, lr: 0.300000\n",
      "\u001b[36m[INFO ]\u001b[0mtrain: @500 tr_loss: -0.07019, base_loss: 0.00229, avg_return: 0.94943, wps: 603.3\n",
      "\u001b[36m[INFO ]\u001b[0mvalid: @50 avg_return: 0.91900, wps: 1298.1\n",
      "\u001b[36m[INFO ]\u001b[0mep: 3, lr: 0.300000\n",
      "\u001b[36m[INFO ]\u001b[0mtrain: @500 tr_loss: -0.06476, base_loss: 0.00214, avg_return: 0.95280, wps: 601.7\n",
      "\u001b[36m[INFO ]\u001b[0mvalid: @50 avg_return: 0.91500, wps: 1349.7\n",
      "\u001b[36m[INFO ]\u001b[0mep: 4, lr: 0.300000\n",
      "\u001b[36m[INFO ]\u001b[0mtrain: @500 tr_loss: -0.06103, base_loss: 0.00205, avg_return: 0.95523, wps: 603.2\n",
      "\u001b[36m[INFO ]\u001b[0mvalid: @50 avg_return: 0.91800, wps: 1386.1\n"
     ]
    }
   ],
   "source": [
    "agent.reset_training_state()\n",
    "train_env = data.env.CopyEnv(train_iter, re_init=False, reward_mode=data.env.ToyRewardMode.EACH_MATCH)\n",
    "info = agent.policy_gradient(train_env, 20, valid_hard_env, 20, max_steps=20)"
   ]
  },
  {
   "cell_type": "code",
   "execution_count": 7,
   "metadata": {
    "collapsed": false
   },
   "outputs": [
    {
     "name": "stdout",
     "output_type": "stream",
     "text": [
      "PPL: 0.0471603506177\n",
      "Each match: 0.976432539683\n",
      "Exact match: 0.918\n",
      "BLEU: 0.966214409899\n"
     ]
    }
   ],
   "source": [
    "info = agent.evaluate(valid_iter, 20)\n",
    "print(\"PPL: {}\".format(\n",
    "    info.eval_cost/info.num_tokens))\n",
    "\n",
    "valid_env = data.env.CopyEnv(valid_iter, re_init=False, reward_mode=data.env.ToyRewardMode.EACH_MATCH)\n",
    "valid_env.restart(batch_size=20)\n",
    "info = agent.evaluate_policy(valid_env)\n",
    "print('Each match: {}'.format(info.eval_loss))\n",
    "\n",
    "valid_hard_env = data.env.CopyEnv(valid_iter, re_init=False, reward_mode=data.env.ToyRewardMode.ALL_MATCH)\n",
    "valid_hard_env.restart(batch_size=20)\n",
    "info = agent.evaluate_policy(valid_hard_env)\n",
    "print('Exact match: {}'.format(info.eval_loss))\n",
    "\n",
    "valid_bleu_env = data.env.CopyEnv(valid_iter, re_init=False, reward_mode=data.env.ToyRewardMode.SEN_BLEU)\n",
    "valid_bleu_env.restart(batch_size=20)\n",
    "info = agent.evaluate_policy(valid_bleu_env)\n",
    "print('BLEU: {}'.format(info.eval_loss))"
   ]
  },
  {
   "cell_type": "code",
   "execution_count": 8,
   "metadata": {
    "collapsed": false
   },
   "outputs": [
    {
     "name": "stdout",
     "output_type": "stream",
     "text": [
      "Return: \n",
      "[[ 0.01633463 -0.00246463 -0.00823536 -0.00223882  0.01537414  0.02000853\n",
      "   0.02424275  0.00252199 -0.07068406  0.00957855]\n",
      " [-0.03090422  0.00377899  0.02025822  0.02127074 -0.03912793 -0.25561094\n",
      "  -0.25561094 -0.25561094 -0.25561094 -0.25561094]]\n",
      "Target: \n",
      "[[ 0.19941406  0.19882813  0.19765625  0.1953125   0.190625    0.18125\n",
      "   0.1625      0.125       0.05        0.1       ]\n",
      " [ 0.3875      0.375       0.35        0.3         0.2         0.          0.\n",
      "   0.          0.          0.        ]]\n"
     ]
    }
   ],
   "source": [
    "test_data = ([['a a b c a d a f a', 'a a b c a d a f a'], ['a b c d', 'a b c d']])\n",
    "test_iter = data.Seq2SeqIterator(vocab, vocab)\n",
    "test_iter.initialize(test_data)\n",
    "test_iter.init_batch(2)\n",
    "env = data.env.CopyEnv(test_iter, re_init=False, reward_mode=data.env.ToyRewardMode.EACH_MATCH)\n",
    "# env = data.env.Seq2SeqEnv(test_iter, re_init=False)\n",
    "transitions, states, rewards = agent.rollout(env, greedy=True)\n",
    "rewards = np.array(rewards)\n",
    "returns, targets = agent._compute_return(states, rewards)\n",
    "print('Return: ') \n",
    "print(returns.T)\n",
    "print('Target: ')\n",
    "print(targets.T)\n",
    "pg_data = env.create_transition_return(states, returns)\n",
    "val_data = env.create_transition_value(states, targets)"
   ]
  },
  {
   "cell_type": "code",
   "execution_count": 9,
   "metadata": {
    "collapsed": false
   },
   "outputs": [
    {
     "data": {
      "text/plain": [
       "array([[ 1,  5,  5,  6,  7,  5,  8,  5, 10,  5,  3],\n",
       "       [ 1,  5,  6,  7,  8,  3,  3,  3,  3,  3,  3]], dtype=int32)"
      ]
     },
     "execution_count": 9,
     "metadata": {},
     "output_type": "execute_result"
    }
   ],
   "source": [
    "pg_data.features.encoder_input.T"
   ]
  },
  {
   "cell_type": "code",
   "execution_count": 10,
   "metadata": {
    "collapsed": false
   },
   "outputs": [
    {
     "data": {
      "text/plain": [
       "array([[ 5,  5,  6,  7,  5,  8,  5, 10,  7,  0],\n",
       "       [ 5,  6,  7,  8,  0,  0,  0,  0,  0,  0]])"
      ]
     },
     "execution_count": 10,
     "metadata": {},
     "output_type": "execute_result"
    }
   ],
   "source": [
    "pg_data.labels.decoder_label.T"
   ]
  },
  {
   "cell_type": "code",
   "execution_count": 11,
   "metadata": {
    "collapsed": false
   },
   "outputs": [
    {
     "data": {
      "text/plain": [
       "array([[ 0.01633463, -0.00246463, -0.00823536, -0.00223882,  0.01537414,\n",
       "         0.02000853,  0.02424275,  0.00252199, -0.07068406,  0.00957855],\n",
       "       [-0.03090422,  0.00377899,  0.02025822,  0.02127074, -0.03912793,\n",
       "        -0.        , -0.        , -0.        , -0.        , -0.        ]])"
      ]
     },
     "execution_count": 11,
     "metadata": {},
     "output_type": "execute_result"
    }
   ],
   "source": [
    "pg_data.labels.decoder_label_weight.T"
   ]
  },
  {
   "cell_type": "code",
   "execution_count": null,
   "metadata": {
    "collapsed": true
   },
   "outputs": [],
   "source": []
  }
 ],
 "metadata": {
  "kernelspec": {
   "display_name": "Python 2",
   "language": "python",
   "name": "python2"
  },
  "language_info": {
   "codemirror_mode": {
    "name": "ipython",
    "version": 2
   },
   "file_extension": ".py",
   "mimetype": "text/x-python",
   "name": "python",
   "nbconvert_exporter": "python",
   "pygments_lexer": "ipython2",
   "version": "2.7.11"
  }
 },
 "nbformat": 4,
 "nbformat_minor": 0
}
