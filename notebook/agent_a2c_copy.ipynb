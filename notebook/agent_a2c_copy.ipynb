{
 "cells": [
  {
   "cell_type": "code",
   "execution_count": 1,
   "metadata": {
    "collapsed": false
   },
   "outputs": [],
   "source": [
    "import sys\n",
    "import time\n",
    "import tensorflow as tf\n",
    "import numpy as np\n",
    "sys.path.insert(0, '../')\n",
    "%load_ext autoreload\n",
    "%autoreload 2"
   ]
  },
  {
   "cell_type": "code",
   "execution_count": 2,
   "metadata": {
    "collapsed": false
   },
   "outputs": [],
   "source": [
    "from seqmodel.bunch import Bunch\n",
    "from seqmodel.experiment.policy_agent import ActorCriticAgent\n",
    "from seqmodel import model\n",
    "from seqmodel import data"
   ]
  },
  {
   "cell_type": "code",
   "execution_count": 3,
   "metadata": {
    "collapsed": true
   },
   "outputs": [],
   "source": [
    "vocab = data.Vocabulary.from_vocab_file('../data/tiny_copy/vocab.txt')\n",
    "valid_iter = data.Seq2SeqIterator(vocab, vocab)\n",
    "valid_iter.initialize('../data/tiny_copy/valid.txt')\n",
    "train_iter = data.Seq2SeqIterator(vocab, vocab)\n",
    "train_iter.initialize('../data/tiny_copy/train.txt')"
   ]
  },
  {
   "cell_type": "code",
   "execution_count": 4,
   "metadata": {
    "collapsed": false
   },
   "outputs": [
    {
     "name": "stderr",
     "output_type": "stream",
     "text": [
      "\u001b[36m[INFO ]\u001b[0mep: 0, lr: 0.300000\n"
     ]
    },
    {
     "name": "stdout",
     "output_type": "stream",
     "text": [
      "policy_agent/policy/model/encoder_embedding:0, (15, 32)\n",
      "policy_agent/policy/model/decoder_embedding:0, (15, 32)\n",
      "policy_agent/policy/model/encoder_rnn/rnn/basic_lstm_cell/weights:0, (64, 128)\n",
      "policy_agent/policy/model/encoder_rnn/rnn/basic_lstm_cell/biases:0, (128,)\n",
      "policy_agent/policy/model/decoder_rnn/rnn/basic_lstm_cell/weights:0, (64, 128)\n",
      "policy_agent/policy/model/decoder_rnn/rnn/basic_lstm_cell/biases:0, (128,)\n",
      "policy_agent/policy/model/decoder_rnn/logit_w:0, (15, 32)\n",
      "policy_agent/policy/model/decoder_rnn/logit_b:0, (15,)\n",
      "policy_agent/value/model/encoder_embedding:0, (15, 32)\n",
      "policy_agent/value/model/decoder_embedding:0, (15, 32)\n",
      "policy_agent/value/model/encoder_rnn/rnn/basic_lstm_cell/weights:0, (64, 128)\n",
      "policy_agent/value/model/encoder_rnn/rnn/basic_lstm_cell/biases:0, (128,)\n",
      "policy_agent/value/model/decoder_rnn/rnn/basic_lstm_cell/weights:0, (64, 128)\n",
      "policy_agent/value/model/decoder_rnn/rnn/basic_lstm_cell/biases:0, (128,)\n",
      "policy_agent/value/model/decoder_rnn/regression_w:0, (1, 32)\n",
      "policy_agent/value/model/decoder_rnn/regression_b:0, (1,)\n"
     ]
    },
    {
     "name": "stderr",
     "output_type": "stream",
     "text": [
      "\u001b[36m[INFO ]\u001b[0mtrain: @499 tr_loss: 8.38486, eval_loss: 1.27545, wps: 15508.2\n",
      "\u001b[36m[INFO ]\u001b[0mvalid: @49 eval_loss: 0.42847, wps: 33578.6\n",
      "\u001b[36m[INFO ]\u001b[0mep: 1, lr: 0.300000\n",
      "\u001b[36m[INFO ]\u001b[0mtrain: @499 tr_loss: 1.81709, eval_loss: 0.27445, wps: 15583.6\n",
      "\u001b[36m[INFO ]\u001b[0mvalid: @49 eval_loss: 0.20787, wps: 36936.7\n",
      "\u001b[36m[INFO ]\u001b[0mep: 2, lr: 0.300000\n",
      "\u001b[36m[INFO ]\u001b[0mtrain: @499 tr_loss: 1.04972, eval_loss: 0.15826, wps: 15484.7\n",
      "\u001b[36m[INFO ]\u001b[0mvalid: @49 eval_loss: 0.13676, wps: 35501.7\n",
      "\u001b[36m[INFO ]\u001b[0mep: 3, lr: 0.300000\n",
      "\u001b[36m[INFO ]\u001b[0mtrain: @499 tr_loss: 0.68783, eval_loss: 0.10351, wps: 15293.4\n",
      "\u001b[36m[INFO ]\u001b[0mvalid: @49 eval_loss: 0.09881, wps: 37862.8\n",
      "\u001b[36m[INFO ]\u001b[0mep: 4, lr: 0.300000\n",
      "\u001b[36m[INFO ]\u001b[0mtrain: @499 tr_loss: 0.52774, eval_loss: 0.07911, wps: 15263.5\n",
      "\u001b[36m[INFO ]\u001b[0mvalid: @49 eval_loss: 0.07291, wps: 36484.4\n"
     ]
    },
    {
     "name": "stdout",
     "output_type": "stream",
     "text": [
      "PPL: 0.0729132937909, time: 0.172223806381\n"
     ]
    }
   ],
   "source": [
    "tf.reset_default_graph()\n",
    "agent_opt = ActorCriticAgent.default_opt()\n",
    "emb_opt = agent_opt.policy_model.model_opt.embedding\n",
    "dec_opt = agent_opt.policy_model.model_opt.decoder\n",
    "enc_opt = agent_opt.policy_model.model_opt.encoder\n",
    "optim_opt = agent_opt.optim\n",
    "\n",
    "emb_opt.decoder_dim = 32\n",
    "emb_opt.encoder_dim = 32\n",
    "\n",
    "dec_opt.rnn_opt.rnn_cell.cell_opt.num_units = 32\n",
    "enc_opt.rnn_opt.rnn_cell.cell_opt.num_units = 32\n",
    "\n",
    "optim_opt.learning_rate = 0.3\n",
    "optim_opt.name = 'GradientDescentOptimizer'\n",
    "optim_opt.max_epochs = 5\n",
    "\n",
    "emb_opt = agent_opt.value_model.model_opt.embedding\n",
    "dec_opt = agent_opt.value_model.model_opt.decoder\n",
    "enc_opt = agent_opt.value_model.model_opt.encoder\n",
    "\n",
    "emb_opt.decoder_dim = 32\n",
    "emb_opt.encoder_dim = 32\n",
    "\n",
    "dec_opt.rnn_opt.rnn_cell.cell_opt.num_units = 32\n",
    "enc_opt.rnn_opt.rnn_cell.cell_opt.num_units = 32\n",
    "\n",
    "sess_config = tf.ConfigProto(device_count={'GPU': 0})\n",
    "sess = tf.Session(config = sess_config)\n",
    "\n",
    "agent = ActorCriticAgent(agent_opt, sess)\n",
    "agent.initialize_model(with_training=True)\n",
    "agent.initialize_optim()\n",
    "for v in tf.trainable_variables():\n",
    "    print('{}, {}'.format(v.name, v.get_shape()))\n",
    "sess.run(tf.global_variables_initializer())\n",
    "agent.train(train_iter, 20, valid_iter, 20, verbose=True)\n",
    "info = agent.evaluate(valid_iter, 20)\n",
    "print(\"PPL: {}, time: {}\".format(\n",
    "    info.eval_cost/info.num_tokens, info.end_time - info.start_time))"
   ]
  },
  {
   "cell_type": "code",
   "execution_count": 5,
   "metadata": {
    "collapsed": false
   },
   "outputs": [
    {
     "name": "stdout",
     "output_type": "stream",
     "text": [
      "0.96374484127\n",
      "0.874\n"
     ]
    }
   ],
   "source": [
    "valid_env = data.env.CopyEnv(valid_iter, re_init=False, reward_mode=data.env.ToyRewardMode.EACH_MATCH)\n",
    "valid_env.restart(batch_size=20)\n",
    "info = agent.evaluate_policy(valid_env)\n",
    "print(info.eval_loss)\n",
    "\n",
    "valid_hard_env = data.env.CopyEnv(valid_iter, re_init=False, reward_mode=data.env.ToyRewardMode.ALL_MATCH)\n",
    "valid_hard_env.restart(batch_size=20)\n",
    "info = agent.evaluate_policy(valid_hard_env)\n",
    "print(info.eval_loss)"
   ]
  },
  {
   "cell_type": "code",
   "execution_count": 16,
   "metadata": {
    "collapsed": false
   },
   "outputs": [
    {
     "name": "stderr",
     "output_type": "stream",
     "text": [
      "\u001b[36m[INFO ]\u001b[0mep: 0, lr: 0.300000\n",
      "\u001b[36m[INFO ]\u001b[0mtrain: @500 tr_loss: -0.07616, base_loss: 0.00769, avg_return: 0.95990, wps: 597.1\n",
      "\u001b[36m[INFO ]\u001b[0mvalid: @50 avg_return: 0.89800, wps: 1376.1\n",
      "\u001b[36m[INFO ]\u001b[0mep: 1, lr: 0.300000\n",
      "\u001b[36m[INFO ]\u001b[0mtrain: @500 tr_loss: -0.07266, base_loss: 0.00727, avg_return: 0.96191, wps: 604.3\n",
      "\u001b[36m[INFO ]\u001b[0mvalid: @50 avg_return: 0.89800, wps: 1334.5\n",
      "\u001b[36m[INFO ]\u001b[0mep: 2, lr: 0.300000\n",
      "\u001b[36m[INFO ]\u001b[0mtrain: @500 tr_loss: -0.07046, base_loss: 0.00691, avg_return: 0.96244, wps: 604.9\n",
      "\u001b[36m[INFO ]\u001b[0mvalid: @50 avg_return: 0.90800, wps: 1392.0\n",
      "\u001b[36m[INFO ]\u001b[0mep: 3, lr: 0.300000\n",
      "\u001b[36m[INFO ]\u001b[0mtrain: @500 tr_loss: -0.06713, base_loss: 0.00649, avg_return: 0.96404, wps: 605.5\n",
      "\u001b[36m[INFO ]\u001b[0mvalid: @50 avg_return: 0.92800, wps: 1384.8\n",
      "\u001b[36m[INFO ]\u001b[0mep: 4, lr: 0.300000\n",
      "\u001b[36m[INFO ]\u001b[0mtrain: @500 tr_loss: -0.06964, base_loss: 0.00683, avg_return: 0.96396, wps: 603.1\n",
      "\u001b[36m[INFO ]\u001b[0mvalid: @50 avg_return: 0.90100, wps: 1370.2\n"
     ]
    }
   ],
   "source": [
    "agent.reset_training_state()\n",
    "train_env = data.env.CopyEnv(train_iter, re_init=False, reward_mode=data.env.ToyRewardMode.EACH_MATCH)\n",
    "info = agent.policy_gradient(train_env, 20, valid_hard_env, 20)"
   ]
  },
  {
   "cell_type": "code",
   "execution_count": 17,
   "metadata": {
    "collapsed": false
   },
   "outputs": [
    {
     "name": "stdout",
     "output_type": "stream",
     "text": [
      "0.975562698413\n",
      "0.901\n",
      "PPL: 0.054776666954, time: 0.16993188858\n"
     ]
    }
   ],
   "source": [
    "valid_env = data.env.CopyEnv(valid_iter, re_init=False, reward_mode=data.env.ToyRewardMode.EACH_MATCH)\n",
    "valid_env.restart(batch_size=20)\n",
    "info = agent.evaluate_policy(valid_env)\n",
    "print(info.eval_loss)\n",
    "\n",
    "valid_hard_env = data.env.CopyEnv(valid_iter, re_init=False, reward_mode=data.env.ToyRewardMode.ALL_MATCH)\n",
    "valid_hard_env.restart(batch_size=20)\n",
    "info = agent.evaluate_policy(valid_hard_env)\n",
    "print(info.eval_loss)\n",
    "\n",
    "info = agent.evaluate(valid_iter, 20)\n",
    "print(\"PPL: {}, time: {}\".format(\n",
    "    info.eval_cost/info.num_tokens, info.end_time - info.start_time))"
   ]
  },
  {
   "cell_type": "code",
   "execution_count": 18,
   "metadata": {
    "collapsed": false
   },
   "outputs": [
    {
     "name": "stdout",
     "output_type": "stream",
     "text": [
      "Reward: \n",
      "[[ 0.66886488  0.57461099  0.47940504  0.48424752  0.4891389   0.3930696\n",
      "   0.2960299   0.19801     0.099       0.1       ]\n",
      " [ 0.980199    0.7880798   0.59402     0.398       0.2         0.          0.\n",
      "   0.          0.          0.        ]]\n",
      "Baseline: \n",
      "[[ 0.79030454  0.69538051  0.61195886  0.53802836  0.44017869  0.35918486\n",
      "   0.26809672  0.18161324  0.10470365  0.03600962]\n",
      " [ 0.96629143  0.76740676  0.56396669  0.36221999  0.19967744  0.0968501\n",
      "   0.0968501   0.0968501   0.0968501   0.0968501 ]]\n",
      "Advantage: \n",
      "[[-0.12143966 -0.12076952 -0.13255382 -0.05378084  0.04896021  0.03388474\n",
      "   0.02793318  0.01639676 -0.00570365  0.06399038]\n",
      " [ 0.01390757  0.02067304  0.03005331  0.03578001  0.00032256 -0.0968501\n",
      "  -0.0968501  -0.0968501  -0.0968501  -0.0968501 ]]\n"
     ]
    }
   ],
   "source": [
    "test_data = ([['a a b c a d a f a', 'a a b c a d a f a'], ['a b c d', 'a b c d']])\n",
    "test_iter = data.Seq2SeqIterator(vocab, vocab)\n",
    "test_iter.initialize(test_data)\n",
    "test_iter.init_batch(2)\n",
    "env = data.env.CopyEnv(test_iter, re_init=False, reward_mode=data.env.ToyRewardMode.EACH_MATCH)\n",
    "transitions, states, rewards = agent.rollout(env, greedy=True)\n",
    "rewards = np.array(rewards)\n",
    "returns, rewards, baseline = agent.compute_return(states, rewards)\n",
    "print('Reward: ') \n",
    "print(rewards.T)\n",
    "print('Baseline: ')\n",
    "print(baseline.T)\n",
    "print('Advantage: ')\n",
    "print(returns.T)\n",
    "pg_data = env.create_transition_return(states, returns)\n",
    "val_data = env.create_transition_value(states, rewards)"
   ]
  },
  {
   "cell_type": "code",
   "execution_count": 19,
   "metadata": {
    "collapsed": false
   },
   "outputs": [
    {
     "data": {
      "text/plain": [
       "array([[ 1,  5,  5,  6,  7,  5,  8,  5, 10,  5,  3],\n",
       "       [ 1,  5,  6,  7,  8,  3,  3,  3,  3,  3,  3]], dtype=int32)"
      ]
     },
     "execution_count": 19,
     "metadata": {},
     "output_type": "execute_result"
    }
   ],
   "source": [
    "pg_data.features.encoder_input.T"
   ]
  },
  {
   "cell_type": "code",
   "execution_count": 20,
   "metadata": {
    "collapsed": false
   },
   "outputs": [
    {
     "data": {
      "text/plain": [
       "array([[ 5,  5,  7,  6,  5,  8,  5, 10, 14,  0],\n",
       "       [ 5,  6,  7,  8,  0,  0,  0,  0,  0,  0]])"
      ]
     },
     "execution_count": 20,
     "metadata": {},
     "output_type": "execute_result"
    }
   ],
   "source": [
    "pg_data.labels.decoder_label.T"
   ]
  },
  {
   "cell_type": "code",
   "execution_count": null,
   "metadata": {
    "collapsed": true
   },
   "outputs": [],
   "source": []
  },
  {
   "cell_type": "code",
   "execution_count": null,
   "metadata": {
    "collapsed": true
   },
   "outputs": [],
   "source": []
  }
 ],
 "metadata": {
  "kernelspec": {
   "display_name": "Python 2",
   "language": "python",
   "name": "python2"
  },
  "language_info": {
   "codemirror_mode": {
    "name": "ipython",
    "version": 2
   },
   "file_extension": ".py",
   "mimetype": "text/x-python",
   "name": "python",
   "nbconvert_exporter": "python",
   "pygments_lexer": "ipython2",
   "version": "2.7.11"
  }
 },
 "nbformat": 4,
 "nbformat_minor": 0
}
